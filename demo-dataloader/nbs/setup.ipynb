{
 "cells": [
  {
   "cell_type": "markdown",
   "id": "0bdee6ef",
   "metadata": {},
   "source": [
    "https://docs.pytorch.org/tutorials/intermediate/char_rnn_classification_tutorial"
   ]
  },
  {
   "cell_type": "code",
   "execution_count": 9,
   "id": "d93e0fba",
   "metadata": {},
   "outputs": [],
   "source": [
    "! mkdir -p  ~/work/data/rnn/data-loader/\n",
    "path = ! find ~/work/data/rnn/data-loader/"
   ]
  },
  {
   "cell_type": "code",
   "execution_count": 12,
   "id": "be4fc9a3",
   "metadata": {},
   "outputs": [],
   "source": [
    "path = path[0]"
   ]
  },
  {
   "cell_type": "code",
   "execution_count": 13,
   "id": "0bdcc278",
   "metadata": {},
   "outputs": [
    {
     "data": {
      "text/plain": [
       "'/home/jovyan/work/data/rnn/data-loader/'"
      ]
     },
     "execution_count": 13,
     "metadata": {},
     "output_type": "execute_result"
    }
   ],
   "source": [
    "path"
   ]
  },
  {
   "cell_type": "code",
   "execution_count": 14,
   "id": "acea47f6",
   "metadata": {},
   "outputs": [
    {
     "name": "stdout",
     "output_type": "stream",
     "text": [
      "--2025-08-26 15:58:40--  https://download.pytorch.org/tutorial/data.zip\n",
      "Resolving download.pytorch.org (download.pytorch.org)... 3.171.214.124, 3.171.214.82, 3.171.214.49, ...\n",
      "Connecting to download.pytorch.org (download.pytorch.org)|3.171.214.124|:443... connected.\n",
      "HTTP request sent, awaiting response... 200 OK\n",
      "Length: 2882130 (2.7M) [application/zip]\n",
      "Saving to: ‘/home/jovyan/work/data/rnn/data-loader/data.zip’\n",
      "\n",
      "data.zip            100%[===================>]   2.75M  3.67MB/s    in 0.7s    \n",
      "\n",
      "2025-08-26 15:58:41 (3.67 MB/s) - ‘/home/jovyan/work/data/rnn/data-loader/data.zip’ saved [2882130/2882130]\n",
      "\n"
     ]
    }
   ],
   "source": [
    " ! wget -P $path https://download.pytorch.org/tutorial/data.zip"
   ]
  },
  {
   "cell_type": "code",
   "execution_count": 15,
   "id": "9e112486",
   "metadata": {},
   "outputs": [
    {
     "name": "stdout",
     "output_type": "stream",
     "text": [
      "data.zip\n"
     ]
    }
   ],
   "source": [
    "! ls $path"
   ]
  },
  {
   "cell_type": "code",
   "execution_count": 25,
   "id": "cf546218",
   "metadata": {},
   "outputs": [
    {
     "name": "stdout",
     "output_type": "stream",
     "text": [
      "Archive:  /home/jovyan/work/data/rnn/data-loader//data.zip\n",
      "   creating: /home/jovyan/work/data/rnn/data-loader/data/\n",
      "  inflating: /home/jovyan/work/data/rnn/data-loader/data/eng-fra.txt  \n",
      "   creating: /home/jovyan/work/data/rnn/data-loader/data/names/\n",
      "  inflating: /home/jovyan/work/data/rnn/data-loader/data/names/Arabic.txt  \n",
      "  inflating: /home/jovyan/work/data/rnn/data-loader/data/names/Chinese.txt  \n",
      "  inflating: /home/jovyan/work/data/rnn/data-loader/data/names/Czech.txt  \n",
      "  inflating: /home/jovyan/work/data/rnn/data-loader/data/names/Dutch.txt  \n",
      "  inflating: /home/jovyan/work/data/rnn/data-loader/data/names/English.txt  \n",
      "  inflating: /home/jovyan/work/data/rnn/data-loader/data/names/French.txt  \n",
      "  inflating: /home/jovyan/work/data/rnn/data-loader/data/names/German.txt  \n",
      "  inflating: /home/jovyan/work/data/rnn/data-loader/data/names/Greek.txt  \n",
      "  inflating: /home/jovyan/work/data/rnn/data-loader/data/names/Irish.txt  \n",
      "  inflating: /home/jovyan/work/data/rnn/data-loader/data/names/Italian.txt  \n",
      "  inflating: /home/jovyan/work/data/rnn/data-loader/data/names/Japanese.txt  \n",
      "  inflating: /home/jovyan/work/data/rnn/data-loader/data/names/Korean.txt  \n",
      "  inflating: /home/jovyan/work/data/rnn/data-loader/data/names/Polish.txt  \n",
      "  inflating: /home/jovyan/work/data/rnn/data-loader/data/names/Portuguese.txt  \n",
      "  inflating: /home/jovyan/work/data/rnn/data-loader/data/names/Russian.txt  \n",
      "  inflating: /home/jovyan/work/data/rnn/data-loader/data/names/Scottish.txt  \n",
      "  inflating: /home/jovyan/work/data/rnn/data-loader/data/names/Spanish.txt  \n",
      "  inflating: /home/jovyan/work/data/rnn/data-loader/data/names/Vietnamese.txt  \n"
     ]
    }
   ],
   "source": [
    "! unzip $path/data.zip -d $path"
   ]
  },
  {
   "cell_type": "code",
   "execution_count": 26,
   "id": "1e0eb60c",
   "metadata": {},
   "outputs": [
    {
     "name": "stdout",
     "output_type": "stream",
     "text": [
      "data  data.zip\n"
     ]
    }
   ],
   "source": [
    "! ls $path"
   ]
  }
 ],
 "metadata": {
  "kernelspec": {
   "display_name": "base",
   "language": "python",
   "name": "python3"
  },
  "language_info": {
   "codemirror_mode": {
    "name": "ipython",
    "version": 3
   },
   "file_extension": ".py",
   "mimetype": "text/x-python",
   "name": "python",
   "nbconvert_exporter": "python",
   "pygments_lexer": "ipython3",
   "version": "3.11.9"
  }
 },
 "nbformat": 4,
 "nbformat_minor": 5
}
