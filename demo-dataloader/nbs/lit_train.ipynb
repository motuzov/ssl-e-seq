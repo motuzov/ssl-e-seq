{
 "cells": [
  {
   "cell_type": "code",
   "execution_count": null,
   "id": "d646a26d",
   "metadata": {},
   "outputs": [],
   "source": [
    "from seq_loader.names_loader import TDTSDataset, collate_padded_batch_fn\n",
    "from seq_loader.lightning import LitBaselineLSTM\n",
    "from pathlib import Path\n",
    "import torch\n",
    "import lightning as L\n",
    "from lightning.pytorch.loggers import TensorBoardLogger\n",
    "import torch.utils.data as data"
   ]
  },
  {
   "cell_type": "code",
   "execution_count": null,
   "id": "e8eed5f1",
   "metadata": {},
   "outputs": [],
   "source": [
    "%load_ext autoreload\n",
    "%autoreload 2"
   ]
  },
  {
   "cell_type": "code",
   "execution_count": null,
   "id": "26bef0cf",
   "metadata": {},
   "outputs": [],
   "source": [
    "data_path = Path('/home/jovyan/data/tbts_data/')\n",
    "filename = \"tbts-names\"\n",
    "_NAME_CHARS_COL = str(\"name_chars\")\n",
    "tdts_dataset = TDTSDataset(\n",
    "    tbts_path=data_path / f\"{filename}.parquet\",\n",
    "    tbts_groupby_column=\"G\",\n",
    "    cat_columns=[_NAME_CHARS_COL],\n",
    "    labels_path=data_path / f\"{filename}-labels.parquet\",\n",
    ")"
   ]
  },
  {
   "cell_type": "code",
   "execution_count": null,
   "id": "008f51ea",
   "metadata": {},
   "outputs": [],
   "source": [
    "embedding_dim = 8\n",
    "col_embedding_dims = dict.fromkeys(tdts_dataset.cat_columns, embedding_dim)\n",
    "embedding_dims = tdts_dataset.cat_col_embeddings_params(col_embedding_dims)\n",
    "b_lstm = LitBaselineLSTM(embedding_dims=embedding_dims, h_size=32, n_classes=tdts_dataset.n_calsses)"
   ]
  },
  {
   "cell_type": "code",
   "execution_count": null,
   "id": "fc8f45c6",
   "metadata": {},
   "outputs": [],
   "source": [
    "embedding_dim = 8\n",
    "col_embedding_dims = dict.fromkeys(tdts_dataset.cat_columns, embedding_dim)\n",
    "embedding_dims = tdts_dataset.cat_col_embeddings_params(col_embedding_dims)\n",
    "b_lstm = LitBaselineLSTM(embedding_dims=embedding_dims, h_size=32, n_classes=tdts_dataset.n_calsses)"
   ]
  },
  {
   "cell_type": "code",
   "execution_count": null,
   "id": "1b0c12b5",
   "metadata": {},
   "outputs": [],
   "source": [
    "train_set_size = int(len(tdts_dataset) * 0.8)\n",
    "valid_set_size = len(tdts_dataset) - train_set_size"
   ]
  },
  {
   "cell_type": "code",
   "execution_count": null,
   "id": "6795960a",
   "metadata": {},
   "outputs": [],
   "source": [
    "seed = torch.Generator().manual_seed(42)\n",
    "train_set, valid_set = data.random_split(tdts_dataset, [train_set_size, valid_set_size], generator=seed)"
   ]
  },
  {
   "cell_type": "code",
   "execution_count": null,
   "id": "142fcf8c",
   "metadata": {},
   "outputs": [],
   "source": [
    "train_loader = data.DataLoader(\n",
    "    dataset=train_set,\n",
    "    shuffle=True,\n",
    "    batch_size=20,\n",
    "    collate_fn=collate_padded_batch_fn,\n",
    "    num_workers=2\n",
    ")\n",
    "valid_loader = data.DataLoader(\n",
    "    dataset=valid_set,\n",
    "    shuffle=True,\n",
    "    batch_size=20,\n",
    "    collate_fn=collate_padded_batch_fn,\n",
    "    num_workers=2\n",
    ")\n"
   ]
  },
  {
   "cell_type": "code",
   "execution_count": null,
   "id": "04d7dc56",
   "metadata": {},
   "outputs": [],
   "source": [
    "logger = TensorBoardLogger(save_dir=data_path / \"tb_logs\", name=\"besline_test\")\n",
    "trainer = L.Trainer(max_epochs = 500, accelerator=\"auto\",\n",
    "        devices=1, logger=logger)\n",
    "trainer.fit(model=b_lstm, train_dataloaders=train_loader, val_dataloaders=valid_loader)"
   ]
  },
  {
   "cell_type": "code",
   "execution_count": null,
   "id": "0365369e",
   "metadata": {},
   "outputs": [],
   "source": [
    "! dirname $data_path"
   ]
  },
  {
   "cell_type": "code",
   "execution_count": null,
   "id": "e0eba730",
   "metadata": {},
   "outputs": [],
   "source": [
    "! ls $data_path"
   ]
  },
  {
   "cell_type": "code",
   "execution_count": null,
   "id": "b626616d",
   "metadata": {},
   "outputs": [],
   "source": [
    "# tensorboard --host 0.0.0.0 --port 6006 --logdir=/home/jovyan/data/tbts_data/tb_logs"
   ]
  }
 ],
 "metadata": {
  "kernelspec": {
   "display_name": "base",
   "language": "python",
   "name": "python3"
  },
  "language_info": {
   "codemirror_mode": {
    "name": "ipython",
    "version": 3
   },
   "file_extension": ".py",
   "mimetype": "text/x-python",
   "name": "python",
   "nbconvert_exporter": "python",
   "pygments_lexer": "ipython3",
   "version": "3.11.9"
  }
 },
 "nbformat": 4,
 "nbformat_minor": 5
}
