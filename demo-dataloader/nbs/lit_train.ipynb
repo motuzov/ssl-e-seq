{
 "cells": [
  {
   "cell_type": "code",
   "execution_count": null,
   "id": "d646a26d",
   "metadata": {},
   "outputs": [],
   "source": [
    "from seq_loader.names_loader import TDTSDataset, collate_padded_batch_fn\n",
    "from seq_loader.lightning import LitLSTM\n",
    "from pathlib import Path\n",
    "import torch\n",
    "import lightning as L\n",
    "from lightning.pytorch.loggers import TensorBoardLogger"
   ]
  },
  {
   "cell_type": "code",
   "execution_count": null,
   "id": "e8eed5f1",
   "metadata": {},
   "outputs": [],
   "source": [
    "%load_ext autoreload\n",
    "%autoreload 2"
   ]
  },
  {
   "cell_type": "code",
   "execution_count": null,
   "id": "26bef0cf",
   "metadata": {},
   "outputs": [],
   "source": [
    "data_path = Path('/home/jovyan/data/tbts_data/')\n",
    "filename = \"tbts-names\"\n",
    "_NAME_CHARS_COL = str(\"name_chars\")\n",
    "tdts_dataset = TDTSDataset(\n",
    "    tbts_path=data_path / f\"{filename}.parquet\",\n",
    "    tbts_groupby_column=\"G\",\n",
    "    cat_columns=[_NAME_CHARS_COL],\n",
    "    labels_path=data_path / f\"{filename}-labels.parquet\",\n",
    ")"
   ]
  },
  {
   "cell_type": "code",
   "execution_count": null,
   "id": "008f51ea",
   "metadata": {},
   "outputs": [],
   "source": [
    "embedding_dim = 4\n",
    "col_embedding_dims = dict.fromkeys(tdts_dataset.cat_columns, embedding_dim)"
   ]
  },
  {
   "cell_type": "code",
   "execution_count": null,
   "id": "fc8f45c6",
   "metadata": {},
   "outputs": [],
   "source": [
    "embedding_dims = tdts_dataset.cat_col_embeddings_params(col_embedding_dims=col_embedding_dims)"
   ]
  },
  {
   "cell_type": "code",
   "execution_count": null,
   "id": "1b0c12b5",
   "metadata": {},
   "outputs": [],
   "source": [
    "model = LitLSTM(embedding_dims=embedding_dims, h_size=8, n_classes=tdts_dataset.n_calsses, lr=1e-3)"
   ]
  },
  {
   "cell_type": "code",
   "execution_count": null,
   "id": "6795960a",
   "metadata": {},
   "outputs": [],
   "source": [
    "model"
   ]
  },
  {
   "cell_type": "code",
   "execution_count": null,
   "id": "142fcf8c",
   "metadata": {},
   "outputs": [],
   "source": [
    "loader = torch.utils.data.DataLoader(\n",
    "        dataset=tdts_dataset,\n",
    "        shuffle=True,\n",
    "        batch_size=10,\n",
    "        collate_fn=collate_padded_batch_fn,\n",
    "    )"
   ]
  },
  {
   "cell_type": "code",
   "execution_count": null,
   "id": "04d7dc56",
   "metadata": {},
   "outputs": [],
   "source": [
    "logger = TensorBoardLogger(\"tb_logs\", name=\"last_names\")"
   ]
  },
  {
   "cell_type": "code",
   "execution_count": null,
   "id": "4dc5e3d0",
   "metadata": {},
   "outputs": [],
   "source": [
    "trainer = L.Trainer(accelerator=\"cuda\", max_epochs=200, logger=logger)"
   ]
  },
  {
   "cell_type": "code",
   "execution_count": null,
   "id": "62a8c631",
   "metadata": {},
   "outputs": [],
   "source": [
    "trainer.fit(model=model, train_dataloaders=loader)"
   ]
  },
  {
   "cell_type": "code",
   "execution_count": null,
   "id": "0365369e",
   "metadata": {},
   "outputs": [],
   "source": [
    "! dirname $data_path"
   ]
  }
 ],
 "metadata": {
  "kernelspec": {
   "display_name": "base",
   "language": "python",
   "name": "python3"
  },
  "language_info": {
   "codemirror_mode": {
    "name": "ipython",
    "version": 3
   },
   "file_extension": ".py",
   "mimetype": "text/x-python",
   "name": "python",
   "nbconvert_exporter": "python",
   "pygments_lexer": "ipython3",
   "version": "3.11.9"
  }
 },
 "nbformat": 4,
 "nbformat_minor": 5
}
