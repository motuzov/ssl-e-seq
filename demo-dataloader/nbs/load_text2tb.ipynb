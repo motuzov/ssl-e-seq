{
 "cells": [
  {
   "cell_type": "code",
   "execution_count": null,
   "id": "4a435421",
   "metadata": {},
   "outputs": [],
   "source": [
    "import pandas as pd\n",
    "import tokenize\n",
    "import io"
   ]
  },
  {
   "cell_type": "code",
   "execution_count": null,
   "id": "3e017906",
   "metadata": {},
   "outputs": [],
   "source": [
    "df = pd.read_csv('https://raw.githubusercontent.com/kenneth-lee-ch/SMS-Spam-Classification/master/spam.csv', encoding='ISO-8859-1')"
   ]
  },
  {
   "cell_type": "code",
   "execution_count": null,
   "id": "c659f76f",
   "metadata": {},
   "outputs": [],
   "source": [
    "df = df[['v1','v2']]\n",
    "df.rename(columns={'v1':'label', 'v2':'message'}, inplace=True)\n",
    "df.head()"
   ]
  },
  {
   "cell_type": "code",
   "execution_count": null,
   "id": "58122fdc",
   "metadata": {},
   "outputs": [],
   "source": [
    "def tokenize_f(txt: str):\n",
    "  text = txt.translate(str.maketrans(\"()\", \"  \"))\n",
    "  return list(t[1] for t in tokenize.generate_tokens(io.StringIO(text).readline))\n"
   ]
  },
  {
   "cell_type": "code",
   "execution_count": null,
   "id": "c8280ab5",
   "metadata": {},
   "outputs": [],
   "source": [
    "df['token'] = df['message'].apply(func=tokenize_f)"
   ]
  },
  {
   "cell_type": "code",
   "execution_count": null,
   "id": "d27b5e77",
   "metadata": {},
   "outputs": [],
   "source": [
    "df_tdts = df.explode('token')"
   ]
  },
  {
   "cell_type": "code",
   "execution_count": null,
   "id": "f3d32234",
   "metadata": {},
   "outputs": [],
   "source": [
    "df_tdts.head()"
   ]
  },
  {
   "cell_type": "code",
   "execution_count": null,
   "id": "5fbf9937",
   "metadata": {},
   "outputs": [],
   "source": [
    "df_tdts = df_tdts.reset_index()"
   ]
  },
  {
   "cell_type": "code",
   "execution_count": null,
   "id": "b78025ce",
   "metadata": {},
   "outputs": [],
   "source": [
    "df_tdts.head()"
   ]
  },
  {
   "cell_type": "code",
   "execution_count": null,
   "id": "9d9eb196",
   "metadata": {},
   "outputs": [],
   "source": [
    "df_tdts = df_tdts.rename(columns={'index': 'G'})"
   ]
  },
  {
   "cell_type": "code",
   "execution_count": null,
   "id": "cea4a356",
   "metadata": {},
   "outputs": [],
   "source": [
    "df_tdts"
   ]
  },
  {
   "cell_type": "code",
   "execution_count": null,
   "id": "14ebdc32",
   "metadata": {},
   "outputs": [],
   "source": [
    "grouped_tdts = df_tdts.groupby('G')"
   ]
  },
  {
   "cell_type": "code",
   "execution_count": null,
   "id": "c671317d",
   "metadata": {},
   "outputs": [],
   "source": [
    "grouped_tdts.get_group(2)"
   ]
  }
 ],
 "metadata": {
  "kernelspec": {
   "display_name": "base",
   "language": "python",
   "name": "python3"
  },
  "language_info": {
   "codemirror_mode": {
    "name": "ipython",
    "version": 3
   },
   "file_extension": ".py",
   "mimetype": "text/x-python",
   "name": "python",
   "nbconvert_exporter": "python",
   "pygments_lexer": "ipython3",
   "version": "3.11.9"
  }
 },
 "nbformat": 4,
 "nbformat_minor": 5
}
