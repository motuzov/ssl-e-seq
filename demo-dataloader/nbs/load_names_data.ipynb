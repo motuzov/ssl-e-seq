{
 "cells": [
  {
   "cell_type": "markdown",
   "id": "0bdee6ef",
   "metadata": {},
   "source": [
    "https://docs.pytorch.org/tutorials/intermediate/char_rnn_classification_tutorial"
   ]
  },
  {
   "cell_type": "code",
   "execution_count": 2,
   "id": "d7a39b16",
   "metadata": {},
   "outputs": [],
   "source": [
    "from pathlib import Path\n",
    "import pandas as pd"
   ]
  },
  {
   "cell_type": "code",
   "execution_count": 3,
   "id": "d93e0fba",
   "metadata": {},
   "outputs": [],
   "source": [
    "data_path = '~/data/tbts_data'\n",
    "! mkdir -p $data_path\n",
    "data_path = ! find $data_path\n",
    "data_path = Path(data_path[0])"
   ]
  },
  {
   "cell_type": "code",
   "execution_count": 4,
   "id": "be4fc9a3",
   "metadata": {},
   "outputs": [],
   "source": [
    "outputfile_name = 'tbts-names'"
   ]
  },
  {
   "cell_type": "code",
   "execution_count": 5,
   "id": "e31d2a5a",
   "metadata": {},
   "outputs": [],
   "source": [
    "path_to_raw_data = '~/data/tbts_data/raw/names/'\n",
    "! mkdir -p $path_to_raw_data\n",
    "path_to_raw_data = ! find $path_to_raw_data\n",
    "path_to_raw_data = path_to_raw_data[0]"
   ]
  },
  {
   "cell_type": "code",
   "execution_count": 6,
   "id": "acea47f6",
   "metadata": {},
   "outputs": [
    {
     "name": "stdout",
     "output_type": "stream",
     "text": [
      "--2025-09-02 15:02:44--  https://download.pytorch.org/tutorial/data.zip\n",
      "Resolving download.pytorch.org (download.pytorch.org)... 18.165.72.122, 18.165.72.111, 18.165.72.41, ...\n",
      "Connecting to download.pytorch.org (download.pytorch.org)|18.165.72.122|:443... connected.\n",
      "HTTP request sent, awaiting response... 200 OK\n",
      "Length: 2882130 (2.7M) [application/zip]\n",
      "Saving to: ‘/home/jovyan/data/tbts_data/raw/names/data.zip’\n",
      "\n",
      "data.zip            100%[===================>]   2.75M  1.74MB/s    in 1.6s    \n",
      "\n",
      "2025-09-02 15:02:46 (1.74 MB/s) - ‘/home/jovyan/data/tbts_data/raw/names/data.zip’ saved [2882130/2882130]\n",
      "\n"
     ]
    }
   ],
   "source": [
    "\n",
    "! wget --no-check-certificate -P $path_to_raw_data https://download.pytorch.org/tutorial/data.zip"
   ]
  },
  {
   "cell_type": "code",
   "execution_count": 12,
   "id": "99b10711",
   "metadata": {},
   "outputs": [
    {
     "name": "stdout",
     "output_type": "stream",
     "text": [
      "data.zip\n",
      "Archive:  /home/jovyan/data/tbts_data/raw/names/data.zip\n",
      "   creating: /home/jovyan/data/tbts_data/raw/names/data/\n",
      "  inflating: /home/jovyan/data/tbts_data/raw/names/data/eng-fra.txt  \n",
      "   creating: /home/jovyan/data/tbts_data/raw/names/data/names/\n",
      "  inflating: /home/jovyan/data/tbts_data/raw/names/data/names/Arabic.txt  \n",
      "  inflating: /home/jovyan/data/tbts_data/raw/names/data/names/Chinese.txt  \n",
      "  inflating: /home/jovyan/data/tbts_data/raw/names/data/names/Czech.txt  \n",
      "  inflating: /home/jovyan/data/tbts_data/raw/names/data/names/Dutch.txt  \n",
      "  inflating: /home/jovyan/data/tbts_data/raw/names/data/names/English.txt  \n",
      "  inflating: /home/jovyan/data/tbts_data/raw/names/data/names/French.txt  \n",
      "  inflating: /home/jovyan/data/tbts_data/raw/names/data/names/German.txt  \n",
      "  inflating: /home/jovyan/data/tbts_data/raw/names/data/names/Greek.txt  \n",
      "  inflating: /home/jovyan/data/tbts_data/raw/names/data/names/Irish.txt  \n",
      "  inflating: /home/jovyan/data/tbts_data/raw/names/data/names/Italian.txt  \n",
      "  inflating: /home/jovyan/data/tbts_data/raw/names/data/names/Japanese.txt  \n",
      "  inflating: /home/jovyan/data/tbts_data/raw/names/data/names/Korean.txt  \n",
      "  inflating: /home/jovyan/data/tbts_data/raw/names/data/names/Polish.txt  \n",
      "  inflating: /home/jovyan/data/tbts_data/raw/names/data/names/Portuguese.txt  \n",
      "  inflating: /home/jovyan/data/tbts_data/raw/names/data/names/Russian.txt  \n",
      "  inflating: /home/jovyan/data/tbts_data/raw/names/data/names/Scottish.txt  \n",
      "  inflating: /home/jovyan/data/tbts_data/raw/names/data/names/Spanish.txt  \n",
      "  inflating: /home/jovyan/data/tbts_data/raw/names/data/names/Vietnamese.txt  \n"
     ]
    }
   ],
   "source": [
    "! ls $path_to_raw_data\n",
    "\n",
    "! unzip $path_to_raw_data/'data.zip' -d $path_to_raw_data\n"
   ]
  },
  {
   "cell_type": "code",
   "execution_count": 13,
   "id": "b1fb4778",
   "metadata": {},
   "outputs": [
    {
     "name": "stdout",
     "output_type": "stream",
     "text": [
      "Arabic.txt   English.txt  Irish.txt\tPolish.txt\tSpanish.txt\n",
      "Chinese.txt  French.txt   Italian.txt\tPortuguese.txt\tVietnamese.txt\n",
      "Czech.txt    German.txt   Japanese.txt\tRussian.txt\n",
      "Dutch.txt    Greek.txt\t  Korean.txt\tScottish.txt\n"
     ]
    }
   ],
   "source": [
    "\n",
    "path_to_raw_data = Path(path_to_raw_data)\n",
    "path = path_to_raw_data / 'data' / 'names'\n",
    "! ls $path"
   ]
  },
  {
   "cell_type": "code",
   "execution_count": 16,
   "id": "42d23252",
   "metadata": {},
   "outputs": [],
   "source": [
    "def load_labeled_names(\n",
    "    names_data_path: Path, file_names: list[str]\n",
    ") -> tuple[list[list[str]], list[str]]:\n",
    "    labels: list[str] = []\n",
    "    name_cahrs: list[list[str]] = []\n",
    "    for fnanme in file_names:\n",
    "        with open(names_data_path / fnanme, mode=\"r\", encoding=\"utf-8\") as f:\n",
    "            for line in f.read().strip().split(\"\\n\"):\n",
    "                name_cahrs.append(list(line))\n",
    "                labels.append(fnanme)\n",
    "    return name_cahrs, labels"
   ]
  },
  {
   "cell_type": "code",
   "execution_count": 17,
   "id": "d19d18df",
   "metadata": {},
   "outputs": [],
   "source": [
    "file_names = sorted([f_path.name for f_path in path.glob(\"*.txt\")])\n",
    "ts_column_name = 'name_chars'\n",
    "df = pd.DataFrame(dict(zip([ts_column_name, 'labels'],  load_labeled_names(names_data_path=path, file_names=file_names))))"
   ]
  },
  {
   "cell_type": "code",
   "execution_count": null,
   "id": "fcb81187",
   "metadata": {},
   "outputs": [],
   "source": []
  },
  {
   "cell_type": "code",
   "execution_count": 18,
   "id": "e84918bd",
   "metadata": {},
   "outputs": [
    {
     "data": {
      "text/plain": [
       "PosixPath('/home/jovyan/data/tbts_data/tbts-names-labels.parquet')"
      ]
     },
     "execution_count": 18,
     "metadata": {},
     "output_type": "execute_result"
    }
   ],
   "source": [
    "data_path / Path(f'{outputfile_name}-labels.parquet')"
   ]
  },
  {
   "cell_type": "code",
   "execution_count": 30,
   "id": "ec61b43b",
   "metadata": {},
   "outputs": [],
   "source": [
    "\n",
    "df[['labels']].to_parquet(path=data_path / Path(f'{outputfile_name}-labels.parquet') , engine='pyarrow')"
   ]
  },
  {
   "cell_type": "code",
   "execution_count": 28,
   "id": "e03a262a",
   "metadata": {},
   "outputs": [
    {
     "data": {
      "application/vnd.microsoft.datawrangler.viewer.v0+json": {
       "columns": [
        {
         "name": "index",
         "rawType": "int64",
         "type": "integer"
        },
        {
         "name": "name_chars",
         "rawType": "object",
         "type": "unknown"
        },
        {
         "name": "labels",
         "rawType": "object",
         "type": "string"
        }
       ],
       "ref": "6692478b-d80e-45ea-ae15-c39b5b3b09bf",
       "rows": [
        [
         "0",
         "['K', 'h', 'o', 'u', 'r', 'y']",
         "Arabic.txt"
        ],
        [
         "1",
         "['N', 'a', 'h', 'a', 's']",
         "Arabic.txt"
        ],
        [
         "2",
         "['D', 'a', 'h', 'e', 'r']",
         "Arabic.txt"
        ],
        [
         "3",
         "['G', 'e', 'r', 'g', 'e', 's']",
         "Arabic.txt"
        ],
        [
         "4",
         "['N', 'a', 'z', 'a', 'r', 'i']",
         "Arabic.txt"
        ]
       ],
       "shape": {
        "columns": 2,
        "rows": 5
       }
      },
      "text/html": [
       "<div>\n",
       "<style scoped>\n",
       "    .dataframe tbody tr th:only-of-type {\n",
       "        vertical-align: middle;\n",
       "    }\n",
       "\n",
       "    .dataframe tbody tr th {\n",
       "        vertical-align: top;\n",
       "    }\n",
       "\n",
       "    .dataframe thead th {\n",
       "        text-align: right;\n",
       "    }\n",
       "</style>\n",
       "<table border=\"1\" class=\"dataframe\">\n",
       "  <thead>\n",
       "    <tr style=\"text-align: right;\">\n",
       "      <th></th>\n",
       "      <th>name_chars</th>\n",
       "      <th>labels</th>\n",
       "    </tr>\n",
       "  </thead>\n",
       "  <tbody>\n",
       "    <tr>\n",
       "      <th>0</th>\n",
       "      <td>[K, h, o, u, r, y]</td>\n",
       "      <td>Arabic.txt</td>\n",
       "    </tr>\n",
       "    <tr>\n",
       "      <th>1</th>\n",
       "      <td>[N, a, h, a, s]</td>\n",
       "      <td>Arabic.txt</td>\n",
       "    </tr>\n",
       "    <tr>\n",
       "      <th>2</th>\n",
       "      <td>[D, a, h, e, r]</td>\n",
       "      <td>Arabic.txt</td>\n",
       "    </tr>\n",
       "    <tr>\n",
       "      <th>3</th>\n",
       "      <td>[G, e, r, g, e, s]</td>\n",
       "      <td>Arabic.txt</td>\n",
       "    </tr>\n",
       "    <tr>\n",
       "      <th>4</th>\n",
       "      <td>[N, a, z, a, r, i]</td>\n",
       "      <td>Arabic.txt</td>\n",
       "    </tr>\n",
       "  </tbody>\n",
       "</table>\n",
       "</div>"
      ],
      "text/plain": [
       "           name_chars      labels\n",
       "0  [K, h, o, u, r, y]  Arabic.txt\n",
       "1     [N, a, h, a, s]  Arabic.txt\n",
       "2     [D, a, h, e, r]  Arabic.txt\n",
       "3  [G, e, r, g, e, s]  Arabic.txt\n",
       "4  [N, a, z, a, r, i]  Arabic.txt"
      ]
     },
     "execution_count": 28,
     "metadata": {},
     "output_type": "execute_result"
    }
   ],
   "source": [
    "df.head()"
   ]
  },
  {
   "cell_type": "code",
   "execution_count": 32,
   "id": "26fb4ade",
   "metadata": {},
   "outputs": [
    {
     "data": {
      "application/vnd.microsoft.datawrangler.viewer.v0+json": {
       "columns": [
        {
         "name": "index",
         "rawType": "int64",
         "type": "integer"
        },
        {
         "name": "labels",
         "rawType": "object",
         "type": "string"
        }
       ],
       "ref": "64c874c1-709b-45f3-8baf-e0f0d73c82b0",
       "rows": [
        [
         "20069",
         "Vietnamese.txt"
        ],
        [
         "20070",
         "Vietnamese.txt"
        ],
        [
         "20071",
         "Vietnamese.txt"
        ],
        [
         "20072",
         "Vietnamese.txt"
        ],
        [
         "20073",
         "Vietnamese.txt"
        ]
       ],
       "shape": {
        "columns": 1,
        "rows": 5
       }
      },
      "text/html": [
       "<div>\n",
       "<style scoped>\n",
       "    .dataframe tbody tr th:only-of-type {\n",
       "        vertical-align: middle;\n",
       "    }\n",
       "\n",
       "    .dataframe tbody tr th {\n",
       "        vertical-align: top;\n",
       "    }\n",
       "\n",
       "    .dataframe thead th {\n",
       "        text-align: right;\n",
       "    }\n",
       "</style>\n",
       "<table border=\"1\" class=\"dataframe\">\n",
       "  <thead>\n",
       "    <tr style=\"text-align: right;\">\n",
       "      <th></th>\n",
       "      <th>labels</th>\n",
       "    </tr>\n",
       "  </thead>\n",
       "  <tbody>\n",
       "    <tr>\n",
       "      <th>20069</th>\n",
       "      <td>Vietnamese.txt</td>\n",
       "    </tr>\n",
       "    <tr>\n",
       "      <th>20070</th>\n",
       "      <td>Vietnamese.txt</td>\n",
       "    </tr>\n",
       "    <tr>\n",
       "      <th>20071</th>\n",
       "      <td>Vietnamese.txt</td>\n",
       "    </tr>\n",
       "    <tr>\n",
       "      <th>20072</th>\n",
       "      <td>Vietnamese.txt</td>\n",
       "    </tr>\n",
       "    <tr>\n",
       "      <th>20073</th>\n",
       "      <td>Vietnamese.txt</td>\n",
       "    </tr>\n",
       "  </tbody>\n",
       "</table>\n",
       "</div>"
      ],
      "text/plain": [
       "               labels\n",
       "20069  Vietnamese.txt\n",
       "20070  Vietnamese.txt\n",
       "20071  Vietnamese.txt\n",
       "20072  Vietnamese.txt\n",
       "20073  Vietnamese.txt"
      ]
     },
     "execution_count": 32,
     "metadata": {},
     "output_type": "execute_result"
    }
   ],
   "source": [
    "df[['labels']][-5:]"
   ]
  },
  {
   "cell_type": "code",
   "execution_count": 21,
   "id": "9082550d",
   "metadata": {},
   "outputs": [
    {
     "data": {
      "application/vnd.microsoft.datawrangler.viewer.v0+json": {
       "columns": [
        {
         "name": "index",
         "rawType": "int64",
         "type": "integer"
        },
        {
         "name": "name_chars",
         "rawType": "object",
         "type": "unknown"
        }
       ],
       "ref": "78bcfe66-ae6f-408b-8bb6-6da7d65cadff",
       "rows": [
        [
         "0",
         "['K', 'h', 'o', 'u', 'r', 'y']"
        ],
        [
         "1",
         "['N', 'a', 'h', 'a', 's']"
        ],
        [
         "2",
         "['D', 'a', 'h', 'e', 'r']"
        ],
        [
         "3",
         "['G', 'e', 'r', 'g', 'e', 's']"
        ],
        [
         "4",
         "['N', 'a', 'z', 'a', 'r', 'i']"
        ],
        [
         "5",
         "['M', 'a', 'a', 'l', 'o', 'u', 'f']"
        ],
        [
         "6",
         "['G', 'e', 'r', 'g', 'e', 's']"
        ],
        [
         "7",
         "['N', 'a', 'i', 'f', 'e', 'h']"
        ],
        [
         "8",
         "['G', 'u', 'i', 'r', 'g', 'u', 'i', 's']"
        ],
        [
         "9",
         "['B', 'a', 'b', 'a']"
        ],
        [
         "10",
         "['S', 'a', 'b', 'b', 'a', 'g', 'h']"
        ],
        [
         "11",
         "['A', 't', 't', 'i', 'a']"
        ],
        [
         "12",
         "['T', 'a', 'h', 'a', 'n']"
        ],
        [
         "13",
         "['H', 'a', 'd', 'd', 'a', 'd']"
        ],
        [
         "14",
         "['A', 's', 'w', 'a', 'd']"
        ],
        [
         "15",
         "['N', 'a', 'j', 'j', 'a', 'r']"
        ],
        [
         "16",
         "['D', 'a', 'g', 'h', 'e', 'r']"
        ],
        [
         "17",
         "['M', 'a', 'l', 'o', 'o', 'f']"
        ],
        [
         "18",
         "['I', 's', 'a']"
        ],
        [
         "19",
         "['A', 's', 'g', 'h', 'a', 'r']"
        ],
        [
         "20",
         "['N', 'a', 'd', 'e', 'r']"
        ],
        [
         "21",
         "['G', 'a', 'b', 'e', 'r']"
        ],
        [
         "22",
         "['A', 'b', 'b', 'o', 'u', 'd']"
        ],
        [
         "23",
         "['M', 'a', 'a', 'l', 'o', 'u', 'f']"
        ],
        [
         "24",
         "['Z', 'o', 'g', 'b', 'y']"
        ],
        [
         "25",
         "['S', 'r', 'o', 'u', 'r']"
        ],
        [
         "26",
         "['B', 'a', 'h', 'a', 'r']"
        ],
        [
         "27",
         "['M', 'u', 's', 't', 'a', 'f', 'a']"
        ],
        [
         "28",
         "['H', 'a', 'n', 'a', 'n', 'i', 'a']"
        ],
        [
         "29",
         "['D', 'a', 'h', 'e', 'r']"
        ],
        [
         "30",
         "['T', 'u', 'm', 'a']"
        ],
        [
         "31",
         "['N', 'a', 'h', 'a', 's']"
        ],
        [
         "32",
         "['S', 'a', 'l', 'i', 'b', 'a']"
        ],
        [
         "33",
         "['S', 'h', 'a', 'm', 'o', 'o', 'n']"
        ],
        [
         "34",
         "['H', 'a', 'n', 'd', 'a', 'l']"
        ],
        [
         "35",
         "['B', 'a', 'b', 'a']"
        ],
        [
         "36",
         "['A', 'm', 'a', 'r', 'i']"
        ],
        [
         "37",
         "['B', 'a', 'h', 'a', 'r']"
        ],
        [
         "38",
         "['A', 't', 'i', 'y', 'e', 'h']"
        ],
        [
         "39",
         "['S', 'a', 'i', 'd']"
        ],
        [
         "40",
         "['K', 'h', 'o', 'u', 'r', 'i']"
        ],
        [
         "41",
         "['T', 'a', 'h', 'a', 'n']"
        ],
        [
         "42",
         "['B', 'a', 'b', 'a']"
        ],
        [
         "43",
         "['M', 'u', 's', 't', 'a', 'f', 'a']"
        ],
        [
         "44",
         "['G', 'u', 'i', 'r', 'g', 'u', 'i', 's']"
        ],
        [
         "45",
         "['S', 'l', 'e', 'i', 'm', 'a', 'n']"
        ],
        [
         "46",
         "['S', 'e', 'i', 'f']"
        ],
        [
         "47",
         "['D', 'a', 'g', 'h', 'e', 'r']"
        ],
        [
         "48",
         "['B', 'a', 'h', 'a', 'r']"
        ],
        [
         "49",
         "['G', 'a', 'b', 'e', 'r']"
        ]
       ],
       "shape": {
        "columns": 1,
        "rows": 20074
       }
      },
      "text/html": [
       "<div>\n",
       "<style scoped>\n",
       "    .dataframe tbody tr th:only-of-type {\n",
       "        vertical-align: middle;\n",
       "    }\n",
       "\n",
       "    .dataframe tbody tr th {\n",
       "        vertical-align: top;\n",
       "    }\n",
       "\n",
       "    .dataframe thead th {\n",
       "        text-align: right;\n",
       "    }\n",
       "</style>\n",
       "<table border=\"1\" class=\"dataframe\">\n",
       "  <thead>\n",
       "    <tr style=\"text-align: right;\">\n",
       "      <th></th>\n",
       "      <th>name_chars</th>\n",
       "    </tr>\n",
       "  </thead>\n",
       "  <tbody>\n",
       "    <tr>\n",
       "      <th>0</th>\n",
       "      <td>[K, h, o, u, r, y]</td>\n",
       "    </tr>\n",
       "    <tr>\n",
       "      <th>1</th>\n",
       "      <td>[N, a, h, a, s]</td>\n",
       "    </tr>\n",
       "    <tr>\n",
       "      <th>2</th>\n",
       "      <td>[D, a, h, e, r]</td>\n",
       "    </tr>\n",
       "    <tr>\n",
       "      <th>3</th>\n",
       "      <td>[G, e, r, g, e, s]</td>\n",
       "    </tr>\n",
       "    <tr>\n",
       "      <th>4</th>\n",
       "      <td>[N, a, z, a, r, i]</td>\n",
       "    </tr>\n",
       "    <tr>\n",
       "      <th>...</th>\n",
       "      <td>...</td>\n",
       "    </tr>\n",
       "    <tr>\n",
       "      <th>20069</th>\n",
       "      <td>[T, r, u, o, n, g]</td>\n",
       "    </tr>\n",
       "    <tr>\n",
       "      <th>20070</th>\n",
       "      <td>[V, a, n]</td>\n",
       "    </tr>\n",
       "    <tr>\n",
       "      <th>20071</th>\n",
       "      <td>[V, i, n, h]</td>\n",
       "    </tr>\n",
       "    <tr>\n",
       "      <th>20072</th>\n",
       "      <td>[V, u, o, n, g]</td>\n",
       "    </tr>\n",
       "    <tr>\n",
       "      <th>20073</th>\n",
       "      <td>[V, u, u]</td>\n",
       "    </tr>\n",
       "  </tbody>\n",
       "</table>\n",
       "<p>20074 rows × 1 columns</p>\n",
       "</div>"
      ],
      "text/plain": [
       "               name_chars\n",
       "0      [K, h, o, u, r, y]\n",
       "1         [N, a, h, a, s]\n",
       "2         [D, a, h, e, r]\n",
       "3      [G, e, r, g, e, s]\n",
       "4      [N, a, z, a, r, i]\n",
       "...                   ...\n",
       "20069  [T, r, u, o, n, g]\n",
       "20070           [V, a, n]\n",
       "20071        [V, i, n, h]\n",
       "20072     [V, u, o, n, g]\n",
       "20073           [V, u, u]\n",
       "\n",
       "[20074 rows x 1 columns]"
      ]
     },
     "execution_count": 21,
     "metadata": {},
     "output_type": "execute_result"
    }
   ],
   "source": [
    "df.loc[:, df.columns != 'labels']"
   ]
  },
  {
   "cell_type": "code",
   "execution_count": 22,
   "id": "2225913e",
   "metadata": {},
   "outputs": [
    {
     "data": {
      "application/vnd.microsoft.datawrangler.viewer.v0+json": {
       "columns": [
        {
         "name": "index",
         "rawType": "int64",
         "type": "integer"
        },
        {
         "name": "G",
         "rawType": "int64",
         "type": "integer"
        },
        {
         "name": "name_chars",
         "rawType": "object",
         "type": "string"
        }
       ],
       "ref": "678487c2-bfce-498d-981b-ed40d2faa9a9",
       "rows": [
        [
         "0",
         "0",
         "K"
        ],
        [
         "1",
         "0",
         "h"
        ],
        [
         "2",
         "0",
         "o"
        ],
        [
         "3",
         "0",
         "u"
        ],
        [
         "4",
         "0",
         "r"
        ],
        [
         "5",
         "0",
         "y"
        ],
        [
         "6",
         "1",
         "N"
        ],
        [
         "7",
         "1",
         "a"
        ],
        [
         "8",
         "1",
         "h"
        ],
        [
         "9",
         "1",
         "a"
        ]
       ],
       "shape": {
        "columns": 2,
        "rows": 10
       }
      },
      "text/html": [
       "<div>\n",
       "<style scoped>\n",
       "    .dataframe tbody tr th:only-of-type {\n",
       "        vertical-align: middle;\n",
       "    }\n",
       "\n",
       "    .dataframe tbody tr th {\n",
       "        vertical-align: top;\n",
       "    }\n",
       "\n",
       "    .dataframe thead th {\n",
       "        text-align: right;\n",
       "    }\n",
       "</style>\n",
       "<table border=\"1\" class=\"dataframe\">\n",
       "  <thead>\n",
       "    <tr style=\"text-align: right;\">\n",
       "      <th></th>\n",
       "      <th>G</th>\n",
       "      <th>name_chars</th>\n",
       "    </tr>\n",
       "  </thead>\n",
       "  <tbody>\n",
       "    <tr>\n",
       "      <th>0</th>\n",
       "      <td>0</td>\n",
       "      <td>K</td>\n",
       "    </tr>\n",
       "    <tr>\n",
       "      <th>1</th>\n",
       "      <td>0</td>\n",
       "      <td>h</td>\n",
       "    </tr>\n",
       "    <tr>\n",
       "      <th>2</th>\n",
       "      <td>0</td>\n",
       "      <td>o</td>\n",
       "    </tr>\n",
       "    <tr>\n",
       "      <th>3</th>\n",
       "      <td>0</td>\n",
       "      <td>u</td>\n",
       "    </tr>\n",
       "    <tr>\n",
       "      <th>4</th>\n",
       "      <td>0</td>\n",
       "      <td>r</td>\n",
       "    </tr>\n",
       "    <tr>\n",
       "      <th>5</th>\n",
       "      <td>0</td>\n",
       "      <td>y</td>\n",
       "    </tr>\n",
       "    <tr>\n",
       "      <th>6</th>\n",
       "      <td>1</td>\n",
       "      <td>N</td>\n",
       "    </tr>\n",
       "    <tr>\n",
       "      <th>7</th>\n",
       "      <td>1</td>\n",
       "      <td>a</td>\n",
       "    </tr>\n",
       "    <tr>\n",
       "      <th>8</th>\n",
       "      <td>1</td>\n",
       "      <td>h</td>\n",
       "    </tr>\n",
       "    <tr>\n",
       "      <th>9</th>\n",
       "      <td>1</td>\n",
       "      <td>a</td>\n",
       "    </tr>\n",
       "  </tbody>\n",
       "</table>\n",
       "</div>"
      ],
      "text/plain": [
       "   G name_chars\n",
       "0  0          K\n",
       "1  0          h\n",
       "2  0          o\n",
       "3  0          u\n",
       "4  0          r\n",
       "5  0          y\n",
       "6  1          N\n",
       "7  1          a\n",
       "8  1          h\n",
       "9  1          a"
      ]
     },
     "execution_count": 22,
     "metadata": {},
     "output_type": "execute_result"
    }
   ],
   "source": [
    "df_tbts =df.loc[:, df.columns != 'labels'].explode(ts_column_name).reset_index().rename(columns={'index': 'G'})\n",
    "df_tbts.head(10)"
   ]
  },
  {
   "cell_type": "code",
   "execution_count": 23,
   "id": "8dba49f5",
   "metadata": {},
   "outputs": [],
   "source": [
    "\n",
    "df_tbts.to_parquet(path=data_path / Path(f'{outputfile_name}.parquet') , engine='pyarrow')"
   ]
  },
  {
   "cell_type": "code",
   "execution_count": 24,
   "id": "8dc91e5a",
   "metadata": {},
   "outputs": [
    {
     "name": "stdout",
     "output_type": "stream",
     "text": [
      "-rw-r--r-- 1 jovyan users 1.9K Sep  2 15:14 /home/jovyan/data/tbts_data/tbts-names-labels.parquet\n",
      "-rw-r--r-- 1 jovyan users 388K Sep  2 15:19 /home/jovyan/data/tbts_data/tbts-names.parquet\n"
     ]
    }
   ],
   "source": [
    "output_files_path = data_path / Path(f'{outputfile_name}')\n",
    "! ls -lah $output_files_path*"
   ]
  },
  {
   "cell_type": "code",
   "execution_count": 38,
   "id": "4d8c37b3",
   "metadata": {},
   "outputs": [
    {
     "data": {
      "text/plain": [
       "20074"
      ]
     },
     "execution_count": 38,
     "metadata": {},
     "output_type": "execute_result"
    }
   ],
   "source": [
    "pd.read_parquet(path=data_path / Path(f'{outputfile_name}.parquet') , engine='pyarrow').groupby('G').ngroups"
   ]
  },
  {
   "cell_type": "code",
   "execution_count": 36,
   "id": "c0cf6731",
   "metadata": {},
   "outputs": [
    {
     "data": {
      "application/vnd.microsoft.datawrangler.viewer.v0+json": {
       "columns": [
        {
         "name": "index",
         "rawType": "int64",
         "type": "integer"
        },
        {
         "name": "labels",
         "rawType": "object",
         "type": "string"
        }
       ],
       "ref": "550ed29e-2a79-423a-b809-e37b4d03699e",
       "rows": [
        [
         "0",
         "Arabic.txt"
        ],
        [
         "1",
         "Arabic.txt"
        ],
        [
         "2",
         "Arabic.txt"
        ],
        [
         "3",
         "Arabic.txt"
        ],
        [
         "4",
         "Arabic.txt"
        ],
        [
         "5",
         "Arabic.txt"
        ],
        [
         "6",
         "Arabic.txt"
        ],
        [
         "7",
         "Arabic.txt"
        ],
        [
         "8",
         "Arabic.txt"
        ],
        [
         "9",
         "Arabic.txt"
        ],
        [
         "10",
         "Arabic.txt"
        ],
        [
         "11",
         "Arabic.txt"
        ],
        [
         "12",
         "Arabic.txt"
        ],
        [
         "13",
         "Arabic.txt"
        ],
        [
         "14",
         "Arabic.txt"
        ],
        [
         "15",
         "Arabic.txt"
        ],
        [
         "16",
         "Arabic.txt"
        ],
        [
         "17",
         "Arabic.txt"
        ],
        [
         "18",
         "Arabic.txt"
        ],
        [
         "19",
         "Arabic.txt"
        ],
        [
         "20",
         "Arabic.txt"
        ],
        [
         "21",
         "Arabic.txt"
        ],
        [
         "22",
         "Arabic.txt"
        ],
        [
         "23",
         "Arabic.txt"
        ],
        [
         "24",
         "Arabic.txt"
        ],
        [
         "25",
         "Arabic.txt"
        ],
        [
         "26",
         "Arabic.txt"
        ],
        [
         "27",
         "Arabic.txt"
        ],
        [
         "28",
         "Arabic.txt"
        ],
        [
         "29",
         "Arabic.txt"
        ],
        [
         "30",
         "Arabic.txt"
        ],
        [
         "31",
         "Arabic.txt"
        ],
        [
         "32",
         "Arabic.txt"
        ],
        [
         "33",
         "Arabic.txt"
        ],
        [
         "34",
         "Arabic.txt"
        ],
        [
         "35",
         "Arabic.txt"
        ],
        [
         "36",
         "Arabic.txt"
        ],
        [
         "37",
         "Arabic.txt"
        ],
        [
         "38",
         "Arabic.txt"
        ],
        [
         "39",
         "Arabic.txt"
        ],
        [
         "40",
         "Arabic.txt"
        ],
        [
         "41",
         "Arabic.txt"
        ],
        [
         "42",
         "Arabic.txt"
        ],
        [
         "43",
         "Arabic.txt"
        ],
        [
         "44",
         "Arabic.txt"
        ],
        [
         "45",
         "Arabic.txt"
        ],
        [
         "46",
         "Arabic.txt"
        ],
        [
         "47",
         "Arabic.txt"
        ],
        [
         "48",
         "Arabic.txt"
        ],
        [
         "49",
         "Arabic.txt"
        ]
       ],
       "shape": {
        "columns": 1,
        "rows": 20074
       }
      },
      "text/html": [
       "<div>\n",
       "<style scoped>\n",
       "    .dataframe tbody tr th:only-of-type {\n",
       "        vertical-align: middle;\n",
       "    }\n",
       "\n",
       "    .dataframe tbody tr th {\n",
       "        vertical-align: top;\n",
       "    }\n",
       "\n",
       "    .dataframe thead th {\n",
       "        text-align: right;\n",
       "    }\n",
       "</style>\n",
       "<table border=\"1\" class=\"dataframe\">\n",
       "  <thead>\n",
       "    <tr style=\"text-align: right;\">\n",
       "      <th></th>\n",
       "      <th>labels</th>\n",
       "    </tr>\n",
       "  </thead>\n",
       "  <tbody>\n",
       "    <tr>\n",
       "      <th>0</th>\n",
       "      <td>Arabic.txt</td>\n",
       "    </tr>\n",
       "    <tr>\n",
       "      <th>1</th>\n",
       "      <td>Arabic.txt</td>\n",
       "    </tr>\n",
       "    <tr>\n",
       "      <th>2</th>\n",
       "      <td>Arabic.txt</td>\n",
       "    </tr>\n",
       "    <tr>\n",
       "      <th>3</th>\n",
       "      <td>Arabic.txt</td>\n",
       "    </tr>\n",
       "    <tr>\n",
       "      <th>4</th>\n",
       "      <td>Arabic.txt</td>\n",
       "    </tr>\n",
       "    <tr>\n",
       "      <th>...</th>\n",
       "      <td>...</td>\n",
       "    </tr>\n",
       "    <tr>\n",
       "      <th>20069</th>\n",
       "      <td>Vietnamese.txt</td>\n",
       "    </tr>\n",
       "    <tr>\n",
       "      <th>20070</th>\n",
       "      <td>Vietnamese.txt</td>\n",
       "    </tr>\n",
       "    <tr>\n",
       "      <th>20071</th>\n",
       "      <td>Vietnamese.txt</td>\n",
       "    </tr>\n",
       "    <tr>\n",
       "      <th>20072</th>\n",
       "      <td>Vietnamese.txt</td>\n",
       "    </tr>\n",
       "    <tr>\n",
       "      <th>20073</th>\n",
       "      <td>Vietnamese.txt</td>\n",
       "    </tr>\n",
       "  </tbody>\n",
       "</table>\n",
       "<p>20074 rows × 1 columns</p>\n",
       "</div>"
      ],
      "text/plain": [
       "               labels\n",
       "0          Arabic.txt\n",
       "1          Arabic.txt\n",
       "2          Arabic.txt\n",
       "3          Arabic.txt\n",
       "4          Arabic.txt\n",
       "...               ...\n",
       "20069  Vietnamese.txt\n",
       "20070  Vietnamese.txt\n",
       "20071  Vietnamese.txt\n",
       "20072  Vietnamese.txt\n",
       "20073  Vietnamese.txt\n",
       "\n",
       "[20074 rows x 1 columns]"
      ]
     },
     "execution_count": 36,
     "metadata": {},
     "output_type": "execute_result"
    }
   ],
   "source": [
    "pd.read_parquet(path=data_path / Path(f'{outputfile_name}-labels.parquet') , engine='pyarrow')"
   ]
  },
  {
   "cell_type": "code",
   "execution_count": 35,
   "id": "8e530930",
   "metadata": {},
   "outputs": [
    {
     "data": {
      "text/plain": [
       "PosixPath('/home/jovyan/data/tbts_data/tbts-names-labels.parquet')"
      ]
     },
     "execution_count": 35,
     "metadata": {},
     "output_type": "execute_result"
    }
   ],
   "source": [
    "data_path / Path(f'{outputfile_name}-labels.parquet')"
   ]
  }
 ],
 "metadata": {
  "kernelspec": {
   "display_name": "base",
   "language": "python",
   "name": "python3"
  },
  "language_info": {
   "codemirror_mode": {
    "name": "ipython",
    "version": 3
   },
   "file_extension": ".py",
   "mimetype": "text/x-python",
   "name": "python",
   "nbconvert_exporter": "python",
   "pygments_lexer": "ipython3",
   "version": "3.11.9"
  }
 },
 "nbformat": 4,
 "nbformat_minor": 5
}
