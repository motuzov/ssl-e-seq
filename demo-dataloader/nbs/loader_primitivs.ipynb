{
 "cells": [
  {
   "cell_type": "code",
   "execution_count": 1,
   "id": "d0e10f3a",
   "metadata": {},
   "outputs": [],
   "source": [
    "import torch\n",
    "from torch.nn.utils.rnn import pad_sequence, pack_padded_sequence, pad_packed_sequence\n",
    "from torch.nn import Embedding"
   ]
  },
  {
   "cell_type": "code",
   "execution_count": 3,
   "id": "0cfc7d32",
   "metadata": {},
   "outputs": [
    {
     "data": {
      "text/plain": [
       "tensor([0, 0, 4])"
      ]
     },
     "execution_count": 3,
     "metadata": {},
     "output_type": "execute_result"
    }
   ],
   "source": [
    "torch.empty(3, dtype=torch.long).random_(5)"
   ]
  },
  {
   "cell_type": "code",
   "execution_count": 4,
   "id": "9d1a4d3b",
   "metadata": {},
   "outputs": [
    {
     "data": {
      "text/plain": [
       "tensor([[ 0.5569,  0.0115,  0.7086,  1.2292,  0.3242],\n",
       "        [-0.0392,  0.4016,  2.5511, -1.7723, -1.5389],\n",
       "        [-0.8195,  0.5356,  0.2913, -0.3434,  0.3000]], requires_grad=True)"
      ]
     },
     "execution_count": 4,
     "metadata": {},
     "output_type": "execute_result"
    }
   ],
   "source": [
    "torch.randn(3, 5, requires_grad=True)"
   ]
  },
  {
   "cell_type": "code",
   "execution_count": 3,
   "id": "43c65a90",
   "metadata": {},
   "outputs": [],
   "source": [
    "d = dict({\"a\": 1, \"b\": 2})"
   ]
  },
  {
   "cell_type": "code",
   "execution_count": 4,
   "id": "6848e481",
   "metadata": {},
   "outputs": [
    {
     "data": {
      "text/plain": [
       "2"
      ]
     },
     "execution_count": 4,
     "metadata": {},
     "output_type": "execute_result"
    }
   ],
   "source": [
    "len(d)"
   ]
  },
  {
   "cell_type": "code",
   "execution_count": 29,
   "id": "402c00ba",
   "metadata": {},
   "outputs": [],
   "source": [
    "import pandas as pd\n",
    "df = pd.DataFrame({\"cat_1\": [1, 2, 3], \"g\": ['a', 'a', 'b']})"
   ]
  },
  {
   "cell_type": "code",
   "execution_count": 31,
   "id": "92764514",
   "metadata": {},
   "outputs": [],
   "source": [
    "grouped_df = df.groupby(\"g\")"
   ]
  },
  {
   "cell_type": "code",
   "execution_count": 43,
   "id": "bdda95b4",
   "metadata": {},
   "outputs": [
    {
     "data": {
      "text/plain": [
       "{'cat_1': [1, 2], 'g': ['a', 'a']}"
      ]
     },
     "execution_count": 43,
     "metadata": {},
     "output_type": "execute_result"
    }
   ],
   "source": [
    "grouped_df.get_group(\"a\").to_dict(orient='list')"
   ]
  },
  {
   "cell_type": "code",
   "execution_count": 45,
   "id": "fb851292",
   "metadata": {},
   "outputs": [],
   "source": [
    "import polars as pl"
   ]
  },
  {
   "cell_type": "code",
   "execution_count": 49,
   "id": "15e6ba71",
   "metadata": {},
   "outputs": [],
   "source": [
    "pdf = pl.DataFrame({\"cat_1\": [1, 2, 3], \"g\": ['a', 'a', 'b']})"
   ]
  },
  {
   "cell_type": "code",
   "execution_count": 53,
   "id": "9d87b7e9",
   "metadata": {},
   "outputs": [],
   "source": [
    "gpdf =  pdf.group_by(\"g\")"
   ]
  },
  {
   "cell_type": "code",
   "execution_count": null,
   "id": "f6675166",
   "metadata": {},
   "outputs": [
    {
     "ename": "TypeError",
     "evalue": "'GroupBy' object is not subscriptable",
     "output_type": "error",
     "traceback": [
      "\u001b[0;31m---------------------------------------------------------------------------\u001b[0m",
      "\u001b[0;31mTypeError\u001b[0m                                 Traceback (most recent call last)",
      "Cell \u001b[0;32mIn[54], line 1\u001b[0m\n\u001b[0;32m----> 1\u001b[0m \u001b[43mgpdf\u001b[49m\u001b[43m[\u001b[49m\u001b[38;5;124;43m\"\u001b[39;49m\u001b[38;5;124;43ma\u001b[39;49m\u001b[38;5;124;43m\"\u001b[39;49m\u001b[43m]\u001b[49m\n",
      "\u001b[0;31mTypeError\u001b[0m: 'GroupBy' object is not subscriptable"
     ]
    }
   ],
   "source": [
    "gpdf.to"
   ]
  },
  {
   "cell_type": "code",
   "execution_count": 2,
   "id": "5442c550",
   "metadata": {},
   "outputs": [],
   "source": [
    "semples = [\n",
    "    (torch.tensor([1, 2]), 0, '0'),\n",
    "    (torch.tensor([3, 4, 7]), 1, '1'), \n",
    "    ]"
   ]
  },
  {
   "cell_type": "code",
   "execution_count": 3,
   "id": "a81f495d",
   "metadata": {},
   "outputs": [],
   "source": [
    "batch = {\n",
    "   'seq': [],\n",
    "   'target': [],\n",
    "}\n",
    "for semple in semples:\n",
    "   seq, t, _ = semple\n",
    "   batch['seq'].append(seq)\n",
    "   batch['target'].append(t)\n"
   ]
  },
  {
   "cell_type": "code",
   "execution_count": 4,
   "id": "82734f52",
   "metadata": {},
   "outputs": [
    {
     "data": {
      "text/plain": [
       "{'seq': [tensor([1, 2]), tensor([3, 4, 7])], 'target': [0, 1]}"
      ]
     },
     "execution_count": 4,
     "metadata": {},
     "output_type": "execute_result"
    }
   ],
   "source": [
    "batch"
   ]
  },
  {
   "cell_type": "code",
   "execution_count": 5,
   "id": "99cebb0b",
   "metadata": {},
   "outputs": [
    {
     "data": {
      "text/plain": [
       "[tensor([1, 2]), tensor([3, 4, 7])]"
      ]
     },
     "execution_count": 5,
     "metadata": {},
     "output_type": "execute_result"
    }
   ],
   "source": [
    "batch['seq']"
   ]
  },
  {
   "cell_type": "code",
   "execution_count": 6,
   "id": "306d1c17",
   "metadata": {},
   "outputs": [],
   "source": [
    "padded_seq = pad_sequence(batch['seq'], batch_first=True, padding_value=0) "
   ]
  },
  {
   "cell_type": "code",
   "execution_count": 9,
   "id": "02333318",
   "metadata": {},
   "outputs": [
    {
     "data": {
      "text/plain": [
       "tensor([[1, 2, 0],\n",
       "        [3, 4, 7]])"
      ]
     },
     "execution_count": 9,
     "metadata": {},
     "output_type": "execute_result"
    }
   ],
   "source": [
    "# B*S\n",
    "padded_seq"
   ]
  },
  {
   "cell_type": "code",
   "execution_count": 8,
   "id": "1519036d",
   "metadata": {},
   "outputs": [
    {
     "data": {
      "text/plain": [
       "torch.Size([2, 3])"
      ]
     },
     "execution_count": 8,
     "metadata": {},
     "output_type": "execute_result"
    }
   ],
   "source": [
    "padded_seq.shape"
   ]
  },
  {
   "cell_type": "code",
   "execution_count": 10,
   "id": "5061f56c",
   "metadata": {},
   "outputs": [],
   "source": [
    "e_layer1 = Embedding(num_embeddings=8, embedding_dim=3, padding_idx=0)\n",
    "e_layer2 = Embedding(num_embeddings=8, embedding_dim=2, padding_idx=0)"
   ]
  },
  {
   "cell_type": "code",
   "execution_count": 11,
   "id": "255b240b",
   "metadata": {},
   "outputs": [],
   "source": [
    "e1_t = e_layer1(padded_seq)\n",
    "e2_t = e_layer2(padded_seq)"
   ]
  },
  {
   "cell_type": "code",
   "execution_count": 14,
   "id": "078fbab2",
   "metadata": {},
   "outputs": [
    {
     "data": {
      "text/plain": [
       "tensor([[[ 2.1258, -0.2839],\n",
       "         [ 1.6081, -1.0939],\n",
       "         [ 0.0000,  0.0000]],\n",
       "\n",
       "        [[ 1.5444,  1.4519],\n",
       "         [ 1.1300,  0.9714],\n",
       "         [ 0.1448,  0.5127]]], grad_fn=<EmbeddingBackward0>)"
      ]
     },
     "execution_count": 14,
     "metadata": {},
     "output_type": "execute_result"
    }
   ],
   "source": [
    "# B(2)*L(3)*D(2)\n",
    "e2_t"
   ]
  },
  {
   "cell_type": "code",
   "execution_count": 16,
   "id": "acd14a65",
   "metadata": {},
   "outputs": [
    {
     "data": {
      "text/plain": [
       "torch.Size([2, 3, 2])"
      ]
     },
     "execution_count": 16,
     "metadata": {},
     "output_type": "execute_result"
    }
   ],
   "source": [
    "e2_t.shape"
   ]
  },
  {
   "cell_type": "code",
   "execution_count": 17,
   "id": "326deac5",
   "metadata": {},
   "outputs": [],
   "source": [
    "f_t = torch.ones(*list(e2_t.shape))"
   ]
  },
  {
   "cell_type": "code",
   "execution_count": 18,
   "id": "8f97e6ed",
   "metadata": {},
   "outputs": [
    {
     "data": {
      "text/plain": [
       "tensor([[[1., 1.],\n",
       "         [1., 1.],\n",
       "         [1., 1.]],\n",
       "\n",
       "        [[1., 1.],\n",
       "         [1., 1.],\n",
       "         [1., 1.]]])"
      ]
     },
     "execution_count": 18,
     "metadata": {},
     "output_type": "execute_result"
    }
   ],
   "source": [
    "f_t"
   ]
  },
  {
   "cell_type": "code",
   "execution_count": 19,
   "id": "08e097bf",
   "metadata": {},
   "outputs": [
    {
     "data": {
      "text/plain": [
       "torch.Size([2, 3, 2])"
      ]
     },
     "execution_count": 19,
     "metadata": {},
     "output_type": "execute_result"
    }
   ],
   "source": [
    "f_t.shape"
   ]
  },
  {
   "cell_type": "code",
   "execution_count": 20,
   "id": "ba9bfbb3",
   "metadata": {},
   "outputs": [
    {
     "data": {
      "text/plain": [
       "tensor([[[ 0.7141, -0.3449, -0.8548],\n",
       "         [ 0.8378, -0.3786, -2.0781],\n",
       "         [ 0.0000,  0.0000,  0.0000]],\n",
       "\n",
       "        [[ 0.1777,  2.2153, -0.6737],\n",
       "         [-0.4224, -0.3284,  0.3313],\n",
       "         [ 0.6919,  1.1233,  1.6236]]], grad_fn=<EmbeddingBackward0>)"
      ]
     },
     "execution_count": 20,
     "metadata": {},
     "output_type": "execute_result"
    }
   ],
   "source": [
    "e1_t"
   ]
  },
  {
   "cell_type": "code",
   "execution_count": 33,
   "id": "2d76fe67",
   "metadata": {},
   "outputs": [
    {
     "data": {
      "text/plain": [
       "tensor([[-0.2298,  1.0594,  0.0000],\n",
       "        [-0.0022, -1.5224,  0.7959]], grad_fn=<SelectBackward0>)"
      ]
     },
     "execution_count": 33,
     "metadata": {},
     "output_type": "execute_result"
    }
   ],
   "source": [
    "e1_t[:, :, -1]"
   ]
  },
  {
   "cell_type": "code",
   "execution_count": null,
   "id": "0daed347",
   "metadata": {},
   "outputs": [
    {
     "data": {
      "text/plain": [
       "tensor([[[-0.2298],\n",
       "         [ 1.0594],\n",
       "         [ 0.0000]],\n",
       "\n",
       "        [[-0.0022],\n",
       "         [-1.5224],\n",
       "         [ 0.7959]]], grad_fn=<UnsqueezeBackward0>)"
      ]
     },
     "execution_count": 39,
     "metadata": {},
     "output_type": "execute_result"
    }
   ],
   "source": [
    "# B*SL*ED(1)\n",
    "e1_t[:, :, -1].unsqueeze(2)"
   ]
  },
  {
   "cell_type": "code",
   "execution_count": 28,
   "id": "6b841700",
   "metadata": {},
   "outputs": [],
   "source": [
    "# B, SL, D_1(3) + D_2(2) + D_3(2) \n",
    "inputs = torch.cat([e1_t, e2_t, f_t], dim=2)"
   ]
  },
  {
   "cell_type": "code",
   "execution_count": 27,
   "id": "f94e26fc",
   "metadata": {},
   "outputs": [
    {
     "data": {
      "text/plain": [
       "tensor([[[ 0.7141, -0.3449, -0.8548,  2.1258, -0.2839,  1.0000,  1.0000],\n",
       "         [ 0.8378, -0.3786, -2.0781,  1.6081, -1.0939,  1.0000,  1.0000],\n",
       "         [ 0.0000,  0.0000,  0.0000,  0.0000,  0.0000,  1.0000,  1.0000]],\n",
       "\n",
       "        [[ 0.1777,  2.2153, -0.6737,  1.5444,  1.4519,  1.0000,  1.0000],\n",
       "         [-0.4224, -0.3284,  0.3313,  1.1300,  0.9714,  1.0000,  1.0000],\n",
       "         [ 0.6919,  1.1233,  1.6236,  0.1448,  0.5127,  1.0000,  1.0000]]],\n",
       "       grad_fn=<CatBackward0>)"
      ]
     },
     "execution_count": 27,
     "metadata": {},
     "output_type": "execute_result"
    }
   ],
   "source": [
    "inputs"
   ]
  },
  {
   "cell_type": "code",
   "execution_count": 25,
   "id": "3d0d76ab",
   "metadata": {},
   "outputs": [
    {
     "data": {
      "text/plain": [
       "torch.Size([2, 3, 7])"
      ]
     },
     "execution_count": 25,
     "metadata": {},
     "output_type": "execute_result"
    }
   ],
   "source": [
    "inputs.shape"
   ]
  },
  {
   "cell_type": "code",
   "execution_count": 58,
   "id": "eb7267cb",
   "metadata": {},
   "outputs": [
    {
     "data": {
      "text/plain": [
       "tensor(3)"
      ]
     },
     "execution_count": 58,
     "metadata": {},
     "output_type": "execute_result"
    }
   ],
   "source": [
    "torch.tensor(e1_t.shape[1])"
   ]
  },
  {
   "cell_type": "code",
   "execution_count": 72,
   "id": "d7327aac",
   "metadata": {},
   "outputs": [],
   "source": [
    "lengths = torch.tensor([2, 3]).cpu()"
   ]
  },
  {
   "cell_type": "code",
   "execution_count": 73,
   "id": "f65dd9a8",
   "metadata": {},
   "outputs": [],
   "source": [
    "packed_input = pack_padded_sequence(e1_t, lengths=lengths, batch_first=True, enforce_sorted=False)"
   ]
  },
  {
   "cell_type": "code",
   "execution_count": 67,
   "id": "fc5d79d3",
   "metadata": {},
   "outputs": [
    {
     "data": {
      "text/plain": [
       "tensor([[[ 0.5936, -1.8150, -0.2298],\n",
       "         [ 0.2582, -0.3254,  1.0594],\n",
       "         [ 0.0000,  0.0000,  0.0000]],\n",
       "\n",
       "        [[ 1.1526, -2.1812, -0.0022],\n",
       "         [ 1.0306, -0.5221, -1.5224],\n",
       "         [ 0.7259,  0.1155,  0.7959]]], grad_fn=<EmbeddingBackward0>)"
      ]
     },
     "execution_count": 67,
     "metadata": {},
     "output_type": "execute_result"
    }
   ],
   "source": [
    "e1_t"
   ]
  },
  {
   "cell_type": "code",
   "execution_count": 74,
   "id": "bc9694b7",
   "metadata": {},
   "outputs": [
    {
     "data": {
      "text/plain": [
       "PackedSequence(data=tensor([[ 1.1526, -2.1812, -0.0022],\n",
       "        [ 0.5936, -1.8150, -0.2298],\n",
       "        [ 1.0306, -0.5221, -1.5224],\n",
       "        [ 0.2582, -0.3254,  1.0594],\n",
       "        [ 0.7259,  0.1155,  0.7959]], grad_fn=<PackPaddedSequenceBackward0>), batch_sizes=tensor([2, 2, 1]), sorted_indices=tensor([1, 0]), unsorted_indices=tensor([1, 0]))"
      ]
     },
     "execution_count": 74,
     "metadata": {},
     "output_type": "execute_result"
    }
   ],
   "source": [
    "packed_input"
   ]
  },
  {
   "cell_type": "code",
   "execution_count": 75,
   "id": "27fd3d50",
   "metadata": {},
   "outputs": [
    {
     "data": {
      "text/plain": [
       "(tensor([[[ 0.5936, -1.8150, -0.2298],\n",
       "          [ 0.2582, -0.3254,  1.0594],\n",
       "          [ 0.0000,  0.0000,  0.0000]],\n",
       " \n",
       "         [[ 1.1526, -2.1812, -0.0022],\n",
       "          [ 1.0306, -0.5221, -1.5224],\n",
       "          [ 0.7259,  0.1155,  0.7959]]], grad_fn=<IndexSelectBackward0>),\n",
       " tensor([2, 3]))"
      ]
     },
     "execution_count": 75,
     "metadata": {},
     "output_type": "execute_result"
    }
   ],
   "source": [
    "pad_packed_sequence(packed_input, batch_first=True)"
   ]
  },
  {
   "cell_type": "code",
   "execution_count": 12,
   "id": "d8cc44a7",
   "metadata": {},
   "outputs": [
    {
     "data": {
      "text/plain": [
       "tensor([4, 4, 1])"
      ]
     },
     "execution_count": 12,
     "metadata": {},
     "output_type": "execute_result"
    }
   ],
   "source": [
    "torch.empty(3, dtype=torch.long).random_(5)"
   ]
  },
  {
   "cell_type": "code",
   "execution_count": 11,
   "id": "fca4e4d1",
   "metadata": {},
   "outputs": [
    {
     "data": {
      "text/plain": [
       "tensor([[ 1.3408,  0.1771,  0.3984,  0.5390,  0.3045],\n",
       "        [ 1.3554, -1.3767,  0.2733, -0.2470, -0.0978],\n",
       "        [ 0.8400, -0.1072,  1.2293, -0.2246,  1.4132]], requires_grad=True)"
      ]
     },
     "execution_count": 11,
     "metadata": {},
     "output_type": "execute_result"
    }
   ],
   "source": [
    "torch.randn(3, 5, requires_grad=True)"
   ]
  }
 ],
 "metadata": {
  "kernelspec": {
   "display_name": "base",
   "language": "python",
   "name": "python3"
  },
  "language_info": {
   "codemirror_mode": {
    "name": "ipython",
    "version": 3
   },
   "file_extension": ".py",
   "mimetype": "text/x-python",
   "name": "python",
   "nbconvert_exporter": "python",
   "pygments_lexer": "ipython3",
   "version": "3.11.9"
  }
 },
 "nbformat": 4,
 "nbformat_minor": 5
}
