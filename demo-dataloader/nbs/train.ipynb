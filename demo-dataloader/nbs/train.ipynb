{
 "cells": [
  {
   "cell_type": "code",
   "execution_count": null,
   "id": "a7d7c11b",
   "metadata": {},
   "outputs": [],
   "source": [
    "from seq_loader.lightning import train, CharRNN, CatColumnsDataEncoder\n",
    "from seq_loader.names_loader import TDTSDataset\n",
    "from pathlib import Path\n",
    "import torch"
   ]
  },
  {
   "cell_type": "code",
   "execution_count": null,
   "id": "01013588",
   "metadata": {},
   "outputs": [],
   "source": [
    "%load_ext autoreload\n",
    "%autoreload 2"
   ]
  },
  {
   "cell_type": "code",
   "execution_count": null,
   "id": "0415b56d",
   "metadata": {},
   "outputs": [],
   "source": [
    "data_path = Path('/home/jovyan/data/tbts_data/')\n",
    "filename = \"tbts-names\"\n",
    "_NAME_CHARS_COL = str(\"name_chars\")\n",
    "tdts_dataset = TDTSDataset(\n",
    "    tbts_path=data_path / f\"{filename}.parquet\",\n",
    "    tbts_groupby_column=\"G\",\n",
    "    cat_columns=[_NAME_CHARS_COL],\n",
    "    labels_path=data_path / f\"{filename}-labels.parquet\",\n",
    ")"
   ]
  },
  {
   "cell_type": "code",
   "execution_count": null,
   "id": "146b162a",
   "metadata": {},
   "outputs": [],
   "source": [
    "embedding_dim = 4\n",
    "col_embedding_dims = dict.fromkeys(tdts_dataset.cat_columns, embedding_dim)"
   ]
  },
  {
   "cell_type": "code",
   "execution_count": null,
   "id": "a70df60b",
   "metadata": {},
   "outputs": [],
   "source": [
    "embedding_dims = tdts_dataset.cat_col_embeddings_params(col_embedding_dims)"
   ]
  },
  {
   "cell_type": "code",
   "execution_count": null,
   "id": "adc8b901",
   "metadata": {},
   "outputs": [],
   "source": [
    "embedding_dims\n"
   ]
  },
  {
   "cell_type": "code",
   "execution_count": null,
   "id": "9814a550",
   "metadata": {},
   "outputs": [],
   "source": [
    "tdts_dataset._labels_decoder"
   ]
  },
  {
   "cell_type": "code",
   "execution_count": null,
   "id": "807b8851",
   "metadata": {},
   "outputs": [],
   "source": [
    "len(tdts_dataset)"
   ]
  },
  {
   "cell_type": "code",
   "execution_count": null,
   "id": "18517aad",
   "metadata": {},
   "outputs": [],
   "source": [
    "embedding_dims"
   ]
  },
  {
   "cell_type": "code",
   "execution_count": null,
   "id": "ee8e493a",
   "metadata": {},
   "outputs": [],
   "source": [
    "CatColumnsDataEncoder(embedding_dims).embedding_dim"
   ]
  },
  {
   "cell_type": "code",
   "execution_count": null,
   "id": "c9e86527",
   "metadata": {},
   "outputs": [],
   "source": [
    "model = CharRNN(embedding_dims=embedding_dims, h_size=8, n_classes=tdts_dataset.n_calsses)"
   ]
  },
  {
   "cell_type": "code",
   "execution_count": null,
   "id": "1dac38b0",
   "metadata": {},
   "outputs": [],
   "source": [
    "tdts_dataset.n_calsses"
   ]
  },
  {
   "cell_type": "code",
   "execution_count": null,
   "id": "9c3d5be7",
   "metadata": {},
   "outputs": [],
   "source": [
    "[model.encoder.embeddings[col] for col in model.encoder.embeddings.keys()]"
   ]
  },
  {
   "cell_type": "code",
   "execution_count": null,
   "id": "1d48aa58",
   "metadata": {},
   "outputs": [],
   "source": [
    "train(\n",
    "    model=model,\n",
    "    tdts_dataset=tdts_dataset,\n",
    "    n_epoch=100,\n",
    "    n_batch_size=100,\n",
    "    report_every=2,\n",
    "    learning_rate=5e-4,\n",
    ")"
   ]
  },
  {
   "cell_type": "markdown",
   "id": "4301ceb9",
   "metadata": {},
   "source": [
    "batch_size = 8  \n",
    "tensor(1.1475)\n",
    "\n",
    "200 \n",
    "cpu 2m 7s\n",
    "\n",
    "GPU 1.31\n",
    "\n",
    "300 \n",
    "2 x faster GPU\n",
    "\n",
    "1.037\n",
    "\n",
    "h=50\n",
    "\n",
    "CPU=4m\n",
    "\n",
    "GPU=1m20s\n",
    "\n",
    "adam=0.95"
   ]
  },
  {
   "cell_type": "code",
   "execution_count": null,
   "id": "606b127e",
   "metadata": {},
   "outputs": [],
   "source": []
  },
  {
   "cell_type": "code",
   "execution_count": null,
   "id": "95d842c7",
   "metadata": {},
   "outputs": [],
   "source": [
    "sum(torch.tensor([1, 1, 1]) == torch.tensor([1, 0, 1]))"
   ]
  },
  {
   "cell_type": "markdown",
   "id": "82972b38",
   "metadata": {},
   "source": [
    "learning_rate=0.3,\n",
    "\n",
    "9m GPU"
   ]
  }
 ],
 "metadata": {
  "kernelspec": {
   "display_name": "base",
   "language": "python",
   "name": "python3"
  },
  "language_info": {
   "codemirror_mode": {
    "name": "ipython",
    "version": 3
   },
   "file_extension": ".py",
   "mimetype": "text/x-python",
   "name": "python",
   "nbconvert_exporter": "python",
   "pygments_lexer": "ipython3",
   "version": "3.11.9"
  }
 },
 "nbformat": 4,
 "nbformat_minor": 5
}
