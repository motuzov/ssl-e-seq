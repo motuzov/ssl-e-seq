{
 "cells": [
  {
   "cell_type": "code",
   "execution_count": 2,
   "id": "a7d7c11b",
   "metadata": {},
   "outputs": [],
   "source": [
    "from seq_loader.lightning import train, CharRNN\n",
    "from seq_loader.names_loader import SeqsDataset\n",
    "from pathlib import Path\n",
    "import torch"
   ]
  },
  {
   "cell_type": "code",
   "execution_count": 3,
   "id": "01013588",
   "metadata": {},
   "outputs": [],
   "source": [
    "%load_ext autoreload\n",
    "%autoreload 2"
   ]
  },
  {
   "cell_type": "code",
   "execution_count": 11,
   "id": "a70df60b",
   "metadata": {},
   "outputs": [
    {
     "name": "stdout",
     "output_type": "stream",
     "text": [
      "16\n"
     ]
    }
   ],
   "source": [
    "seqs_dataset = SeqsDataset(Path(\"/home/jovyan/work/data/rnn/data-loader/data/names\"))\n",
    "rnn = CharRNN(num_embeddings=seqs_dataset.num_embeddings, embedding_dim=4, hidden_size=8, n_classes=seqs_dataset.n_calsses)"
   ]
  },
  {
   "cell_type": "code",
   "execution_count": 12,
   "id": "2d1dbdf6",
   "metadata": {},
   "outputs": [
    {
     "data": {
      "text/plain": [
       "CharRNN(\n",
       "  (embedding): Embedding(58, 4, padding_idx=0)\n",
       "  (rnn): LSTM(4, 8)\n",
       "  (h2o): Linear(in_features=16, out_features=18, bias=True)\n",
       ")"
      ]
     },
     "execution_count": 12,
     "metadata": {},
     "output_type": "execute_result"
    }
   ],
   "source": [
    "device = torch.device(\"cuda\")\n",
    "rnn.to(device)"
   ]
  },
  {
   "cell_type": "code",
   "execution_count": 35,
   "id": "1d48aa58",
   "metadata": {},
   "outputs": [
    {
     "name": "stdout",
     "output_type": "stream",
     "text": [
      "100\n",
      "epoch: 50\n",
      "tensor(1.0313, device='cuda:0')\n",
      "0.6782405101125835\n",
      "epoch: 100\n",
      "tensor(0.9451, device='cuda:0')\n",
      "0.6996114376805819\n",
      "epoch: 150\n",
      "tensor(0.9150, device='cuda:0')\n",
      "0.7059878449735977\n",
      "epoch: 200\n",
      "tensor(0.9008, device='cuda:0')\n",
      "0.7132609345421939\n",
      "epoch: 250\n",
      "tensor(0.8872, device='cuda:0')\n",
      "0.7167480322805619\n",
      "epoch: 300\n",
      "tensor(0.8825, device='cuda:0')\n",
      "0.7147055893195178\n",
      "epoch: 350\n",
      "tensor(0.8779, device='cuda:0')\n",
      "0.7180930556939324\n",
      "epoch: 400\n",
      "tensor(0.8701, device='cuda:0')\n",
      "0.7183919497857926\n",
      "epoch: 450\n",
      "tensor(0.8726, device='cuda:0')\n",
      "0.7198366045631165\n",
      "epoch: 500\n",
      "tensor(0.8698, device='cuda:0')\n",
      "0.719438079107303\n"
     ]
    }
   ],
   "source": [
    "device = torch.device(\"cuda\")\n",
    "rnn = CharRNN(num_embeddings=seqs_dataset.num_embeddings, embedding_dim=20, hidden_size=50, n_classes=seqs_dataset.n_calsses)\n",
    "rnn.to(device)\n",
    "train(\n",
    "    rnn=rnn,\n",
    "    seqs_dataset=seqs_dataset,\n",
    "    device=device,\n",
    "    n_epoch=500,\n",
    "    n_batch_size=300,\n",
    "    report_every=50,\n",
    "    learning_rate=4e-3,\n",
    ")"
   ]
  },
  {
   "cell_type": "markdown",
   "id": "4301ceb9",
   "metadata": {},
   "source": [
    "batch_size = 8  \n",
    "tensor(1.1475)\n",
    "\n",
    "200 \n",
    "cpu 2m 7s\n",
    "\n",
    "GPU 1.31\n",
    "\n",
    "300 \n",
    "2 x faster GPU\n",
    "\n",
    "1.037\n",
    "\n",
    "h=50\n",
    "\n",
    "CPU=4m\n",
    "\n",
    "GPU=1m20s\n",
    "\n",
    "adam=0.95"
   ]
  },
  {
   "cell_type": "code",
   "execution_count": null,
   "id": "606b127e",
   "metadata": {},
   "outputs": [],
   "source": []
  },
  {
   "cell_type": "code",
   "execution_count": 34,
   "id": "95d842c7",
   "metadata": {},
   "outputs": [
    {
     "data": {
      "text/plain": [
       "tensor(2)"
      ]
     },
     "execution_count": 34,
     "metadata": {},
     "output_type": "execute_result"
    }
   ],
   "source": [
    "sum(torch.tensor([1, 1, 1]) == torch.tensor([1, 0, 1]))"
   ]
  },
  {
   "cell_type": "markdown",
   "id": "82972b38",
   "metadata": {},
   "source": [
    "learning_rate=0.3,\n",
    "\n",
    "9m GPU"
   ]
  }
 ],
 "metadata": {
  "kernelspec": {
   "display_name": "base",
   "language": "python",
   "name": "python3"
  },
  "language_info": {
   "codemirror_mode": {
    "name": "ipython",
    "version": 3
   },
   "file_extension": ".py",
   "mimetype": "text/x-python",
   "name": "python",
   "nbconvert_exporter": "python",
   "pygments_lexer": "ipython3",
   "version": "3.11.9"
  }
 },
 "nbformat": 4,
 "nbformat_minor": 5
}
